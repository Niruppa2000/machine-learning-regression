{
 "cells": [
  {
   "cell_type": "code",
   "execution_count": 3,
   "id": "d04957f0-e8b2-4623-a9cd-01a76f4662cd",
   "metadata": {},
   "outputs": [],
   "source": [
    "import numpy as np\n",
    "import matplotlib.pyplot as plt\n",
    "import pandas as pd"
   ]
  },
  {
   "cell_type": "code",
   "execution_count": 7,
   "id": "a0bbcc85-402b-4f4c-a0c0-ebbf1362ea00",
   "metadata": {},
   "outputs": [],
   "source": [
    "dataset = pd.read_csv('insurance_pre.csv')\n",
    "dataset=pd.get_dummies(dataset,dtype=int,drop_first=True)\n"
   ]
  },
  {
   "cell_type": "code",
   "execution_count": 11,
   "id": "faab2a2f-ae86-4324-a5ec-3d6f74a6fbfe",
   "metadata": {},
   "outputs": [],
   "source": [
    "indep=dataset[['age', 'bmi', 'children','sex_male', 'smoker_yes']]\n",
    "dep=dataset['charges']\n"
   ]
  },
  {
   "cell_type": "code",
   "execution_count": 13,
   "id": "108e6d03-ba46-4093-bfc3-4a76166292f8",
   "metadata": {},
   "outputs": [],
   "source": [
    "from sklearn.model_selection import train_test_split\n",
    "X_train, X_test, Y_train, Y_test = train_test_split(indep, dep, test_size = 1/3, random_state = 0)\n",
    "from sklearn.preprocessing import StandardScaler\n",
    "sc = StandardScaler()\n",
    "X_train = sc.fit_transform(X_train)\n",
    "X_test = sc.transform(X_test)"
   ]
  },
  {
   "cell_type": "code",
   "execution_count": 15,
   "id": "7e7ffa6e-56e4-43f8-a2b4-4cf108a4543b",
   "metadata": {},
   "outputs": [
    {
     "name": "stderr",
     "output_type": "stream",
     "text": [
      "C:\\Anaconda\\Lib\\site-packages\\sklearn\\base.py:493: UserWarning: X does not have valid feature names, but StandardScaler was fitted with feature names\n",
      "  warnings.warn(\n"
     ]
    }
   ],
   "source": [
    "preinput=sc.transform([[23,30,2,1,1]])"
   ]
  },
  {
   "cell_type": "code",
   "execution_count": 19,
   "id": "505838ad-299d-4af6-8823-7df7fdbe980a",
   "metadata": {},
   "outputs": [],
   "source": [
    "import pickle\n",
    "loaded_model=pickle.load(open(\"finalized_model_Forest.sav\",'rb')) #loading the final model and prediction\n",
    "result=loaded_model.predict([[23,30,2,1,1]]) "
   ]
  },
  {
   "cell_type": "code",
   "execution_count": 21,
   "id": "e032c483-19ae-44ff-9730-d609df106f24",
   "metadata": {},
   "outputs": [
    {
     "data": {
      "text/plain": [
       "array([57097.2308606])"
      ]
     },
     "execution_count": 21,
     "metadata": {},
     "output_type": "execute_result"
    }
   ],
   "source": [
    "result"
   ]
  },
  {
   "cell_type": "code",
   "execution_count": null,
   "id": "5ceb0fde-b4dd-4c43-b388-3d903d03db85",
   "metadata": {},
   "outputs": [],
   "source": []
  },
  {
   "cell_type": "code",
   "execution_count": null,
   "id": "e59d2dc9-8a5c-406b-88ef-4d70fdf2e1aa",
   "metadata": {},
   "outputs": [],
   "source": []
  },
  {
   "cell_type": "code",
   "execution_count": null,
   "id": "7c99f94c-8b3c-45ec-a9c8-a87cc338128b",
   "metadata": {},
   "outputs": [],
   "source": []
  },
  {
   "cell_type": "code",
   "execution_count": null,
   "id": "dcddc4af-a61e-400d-9f23-5367631bd20e",
   "metadata": {},
   "outputs": [],
   "source": []
  },
  {
   "cell_type": "code",
   "execution_count": null,
   "id": "735303a0-64d3-4f4d-b447-1a2ff8572a0c",
   "metadata": {},
   "outputs": [],
   "source": []
  }
 ],
 "metadata": {
  "kernelspec": {
   "display_name": "Python [conda env:base] *",
   "language": "python",
   "name": "conda-base-py"
  },
  "language_info": {
   "codemirror_mode": {
    "name": "ipython",
    "version": 3
   },
   "file_extension": ".py",
   "mimetype": "text/x-python",
   "name": "python",
   "nbconvert_exporter": "python",
   "pygments_lexer": "ipython3",
   "version": "3.12.7"
  }
 },
 "nbformat": 4,
 "nbformat_minor": 5
}
