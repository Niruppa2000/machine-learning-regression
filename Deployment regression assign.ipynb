{
 "cells": [
  {
   "cell_type": "code",
   "execution_count": 2,
   "id": "d949646b-4bcf-4959-a7e0-7275eae5c895",
   "metadata": {},
   "outputs": [],
   "source": [
    "import pickle"
   ]
  },
  {
   "cell_type": "code",
   "execution_count": 4,
   "id": "8bc2bd31-7229-4f53-ba0b-8f69380339b7",
   "metadata": {},
   "outputs": [
    {
     "name": "stderr",
     "output_type": "stream",
     "text": [
      "C:\\Anaconda\\Lib\\site-packages\\sklearn\\base.py:493: UserWarning: X does not have valid feature names, but RandomForestRegressor was fitted with feature names\n",
      "  warnings.warn(\n"
     ]
    }
   ],
   "source": [
    "loaded_model=pickle.load(open(\"finalized_model_Forest.sav\",'rb')) #loading the final model and prediction\n",
    "result=loaded_model.predict([[1234,345,4565,1,0]]) #5 numbers for prediction as it has 5 inputs"
   ]
  },
  {
   "cell_type": "code",
   "execution_count": 6,
   "id": "19eb9d87-eda8-4bba-8723-2aba5f5731dd",
   "metadata": {},
   "outputs": [
    {
     "data": {
      "text/plain": [
       "array([27994.4061844])"
      ]
     },
     "execution_count": 6,
     "metadata": {},
     "output_type": "execute_result"
    }
   ],
   "source": [
    "result"
   ]
  },
  {
   "cell_type": "code",
   "execution_count": null,
   "id": "6e105b8e-74c1-4f9b-914a-f99b29dd174a",
   "metadata": {},
   "outputs": [],
   "source": []
  },
  {
   "cell_type": "code",
   "execution_count": null,
   "id": "aa69a1c7-b36f-406d-b009-b09e240e689b",
   "metadata": {},
   "outputs": [],
   "source": []
  }
 ],
 "metadata": {
  "kernelspec": {
   "display_name": "Python [conda env:base] *",
   "language": "python",
   "name": "conda-base-py"
  },
  "language_info": {
   "codemirror_mode": {
    "name": "ipython",
    "version": 3
   },
   "file_extension": ".py",
   "mimetype": "text/x-python",
   "name": "python",
   "nbconvert_exporter": "python",
   "pygments_lexer": "ipython3",
   "version": "3.12.7"
  }
 },
 "nbformat": 4,
 "nbformat_minor": 5
}
