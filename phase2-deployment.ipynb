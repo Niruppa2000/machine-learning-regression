{
 "cells": [
  {
   "cell_type": "code",
   "execution_count": null,
   "id": "66c4ada1-e2bc-4fae-9a20-30b37b7abce2",
   "metadata": {},
   "outputs": [],
   "source": [
    "#DEPLOYMENT OF MODEL"
   ]
  },
  {
   "cell_type": "code",
   "execution_count": 1,
   "id": "31a07d11-1ebb-4d7c-a4ac-1f81644f405c",
   "metadata": {},
   "outputs": [],
   "source": [
    "import pickle"
   ]
  },
  {
   "cell_type": "code",
   "execution_count": 7,
   "id": "08ea12fc-1241-4b72-83a1-c1bd05b15024",
   "metadata": {},
   "outputs": [
    {
     "name": "stderr",
     "output_type": "stream",
     "text": [
      "C:\\Anaconda\\Lib\\site-packages\\sklearn\\base.py:493: UserWarning: X does not have valid feature names, but LinearRegression was fitted with feature names\n",
      "  warnings.warn(\n"
     ]
    }
   ],
   "source": [
    "loaded_model=pickle.load(open(\"finalized_model_linear.sav\",'rb')) #load the saved model\n",
    "result=loaded_model.predict([[0]]) #get input from user"
   ]
  },
  {
   "cell_type": "code",
   "execution_count": 9,
   "id": "2c10101d-ad32-4dcf-bdf2-f888ad31331f",
   "metadata": {},
   "outputs": [
    {
     "data": {
      "text/plain": [
       "array([[26777.3913412]])"
      ]
     },
     "execution_count": 9,
     "metadata": {},
     "output_type": "execute_result"
    }
   ],
   "source": [
    "result #prediction "
   ]
  },
  {
   "cell_type": "code",
   "execution_count": null,
   "id": "c99bd4be-78fa-49da-b8c9-36ee9e1101d8",
   "metadata": {},
   "outputs": [],
   "source": []
  }
 ],
 "metadata": {
  "kernelspec": {
   "display_name": "Python [conda env:base] *",
   "language": "python",
   "name": "conda-base-py"
  },
  "language_info": {
   "codemirror_mode": {
    "name": "ipython",
    "version": 3
   },
   "file_extension": ".py",
   "mimetype": "text/x-python",
   "name": "python",
   "nbconvert_exporter": "python",
   "pygments_lexer": "ipython3",
   "version": "3.12.7"
  }
 },
 "nbformat": 4,
 "nbformat_minor": 5
}
